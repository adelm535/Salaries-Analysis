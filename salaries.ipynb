{
  "nbformat": 4,
  "nbformat_minor": 0,
  "metadata": {
    "colab": {
      "name": "salaries.ipynb",
      "provenance": [],
      "collapsed_sections": [],
      "authorship_tag": "ABX9TyNIsL4iR99fOo88fFoGiKs0"
    },
    "kernelspec": {
      "name": "python3",
      "display_name": "Python 3"
    },
    "language_info": {
      "name": "python"
    }
  },
  "cells": [
    {
      "cell_type": "code",
      "metadata": {
        "colab": {
          "base_uri": "https://localhost:8080/"
        },
        "id": "dGq_3TdW9wc7",
        "outputId": "29855765-8665-4770-860e-6bbb9a7af159"
      },
      "source": [
        "from google.colab import drive\n",
        "drive.mount(\"/content/drive\")"
      ],
      "execution_count": 1,
      "outputs": [
        {
          "output_type": "stream",
          "name": "stdout",
          "text": [
            "Mounted at /content/drive\n"
          ]
        }
      ]
    },
    {
      "cell_type": "markdown",
      "metadata": {
        "id": "XuBIpBVy93jy"
      },
      "source": [
        "# **Reading Data Set**"
      ]
    },
    {
      "cell_type": "code",
      "metadata": {
        "colab": {
          "base_uri": "https://localhost:8080/"
        },
        "id": "L_ltmplr92-v",
        "outputId": "3fdcece6-baa0-4784-9b87-b681a817cefb"
      },
      "source": [
        "import pandas as pd\n",
        "import matplotlib.pyplot as plt\n",
        "import seaborn as sns\n",
        "import numpy as np\n",
        "df = pd.read_csv(\"/content/drive/MyDrive/Salaries.csv\")\n"
      ],
      "execution_count": 2,
      "outputs": [
        {
          "output_type": "stream",
          "name": "stderr",
          "text": [
            "/usr/local/lib/python3.7/dist-packages/IPython/core/interactiveshell.py:2718: DtypeWarning: Columns (3,4,5,6,12) have mixed types.Specify dtype option on import or set low_memory=False.\n",
            "  interactivity=interactivity, compiler=compiler, result=result)\n"
          ]
        }
      ]
    },
    {
      "cell_type": "code",
      "metadata": {
        "colab": {
          "base_uri": "https://localhost:8080/",
          "height": 293
        },
        "id": "hrRd6-8h-YEz",
        "outputId": "1c186c4f-3f82-46d2-9e56-d60aef8b40d1"
      },
      "source": [
        "df.head()"
      ],
      "execution_count": 3,
      "outputs": [
        {
          "output_type": "execute_result",
          "data": {
            "text/html": [
              "<div>\n",
              "<style scoped>\n",
              "    .dataframe tbody tr th:only-of-type {\n",
              "        vertical-align: middle;\n",
              "    }\n",
              "\n",
              "    .dataframe tbody tr th {\n",
              "        vertical-align: top;\n",
              "    }\n",
              "\n",
              "    .dataframe thead th {\n",
              "        text-align: right;\n",
              "    }\n",
              "</style>\n",
              "<table border=\"1\" class=\"dataframe\">\n",
              "  <thead>\n",
              "    <tr style=\"text-align: right;\">\n",
              "      <th></th>\n",
              "      <th>Id</th>\n",
              "      <th>EmployeeName</th>\n",
              "      <th>JobTitle</th>\n",
              "      <th>BasePay</th>\n",
              "      <th>OvertimePay</th>\n",
              "      <th>OtherPay</th>\n",
              "      <th>Benefits</th>\n",
              "      <th>TotalPay</th>\n",
              "      <th>TotalPayBenefits</th>\n",
              "      <th>Year</th>\n",
              "      <th>Notes</th>\n",
              "      <th>Agency</th>\n",
              "      <th>Status</th>\n",
              "    </tr>\n",
              "  </thead>\n",
              "  <tbody>\n",
              "    <tr>\n",
              "      <th>0</th>\n",
              "      <td>1</td>\n",
              "      <td>NATHANIEL FORD</td>\n",
              "      <td>GENERAL MANAGER-METROPOLITAN TRANSIT AUTHORITY</td>\n",
              "      <td>167411</td>\n",
              "      <td>0</td>\n",
              "      <td>400184</td>\n",
              "      <td>NaN</td>\n",
              "      <td>567595.43</td>\n",
              "      <td>567595.43</td>\n",
              "      <td>2011</td>\n",
              "      <td>NaN</td>\n",
              "      <td>San Francisco</td>\n",
              "      <td>NaN</td>\n",
              "    </tr>\n",
              "    <tr>\n",
              "      <th>1</th>\n",
              "      <td>2</td>\n",
              "      <td>GARY JIMENEZ</td>\n",
              "      <td>CAPTAIN III (POLICE DEPARTMENT)</td>\n",
              "      <td>155966</td>\n",
              "      <td>245132</td>\n",
              "      <td>137811</td>\n",
              "      <td>NaN</td>\n",
              "      <td>538909.28</td>\n",
              "      <td>538909.28</td>\n",
              "      <td>2011</td>\n",
              "      <td>NaN</td>\n",
              "      <td>San Francisco</td>\n",
              "      <td>NaN</td>\n",
              "    </tr>\n",
              "    <tr>\n",
              "      <th>2</th>\n",
              "      <td>3</td>\n",
              "      <td>ALBERT PARDINI</td>\n",
              "      <td>CAPTAIN III (POLICE DEPARTMENT)</td>\n",
              "      <td>212739</td>\n",
              "      <td>106088</td>\n",
              "      <td>16452.6</td>\n",
              "      <td>NaN</td>\n",
              "      <td>335279.91</td>\n",
              "      <td>335279.91</td>\n",
              "      <td>2011</td>\n",
              "      <td>NaN</td>\n",
              "      <td>San Francisco</td>\n",
              "      <td>NaN</td>\n",
              "    </tr>\n",
              "    <tr>\n",
              "      <th>3</th>\n",
              "      <td>4</td>\n",
              "      <td>CHRISTOPHER CHONG</td>\n",
              "      <td>WIRE ROPE CABLE MAINTENANCE MECHANIC</td>\n",
              "      <td>77916</td>\n",
              "      <td>56120.7</td>\n",
              "      <td>198307</td>\n",
              "      <td>NaN</td>\n",
              "      <td>332343.61</td>\n",
              "      <td>332343.61</td>\n",
              "      <td>2011</td>\n",
              "      <td>NaN</td>\n",
              "      <td>San Francisco</td>\n",
              "      <td>NaN</td>\n",
              "    </tr>\n",
              "    <tr>\n",
              "      <th>4</th>\n",
              "      <td>5</td>\n",
              "      <td>PATRICK GARDNER</td>\n",
              "      <td>DEPUTY CHIEF OF DEPARTMENT,(FIRE DEPARTMENT)</td>\n",
              "      <td>134402</td>\n",
              "      <td>9737</td>\n",
              "      <td>182235</td>\n",
              "      <td>NaN</td>\n",
              "      <td>326373.19</td>\n",
              "      <td>326373.19</td>\n",
              "      <td>2011</td>\n",
              "      <td>NaN</td>\n",
              "      <td>San Francisco</td>\n",
              "      <td>NaN</td>\n",
              "    </tr>\n",
              "  </tbody>\n",
              "</table>\n",
              "</div>"
            ],
            "text/plain": [
              "   Id       EmployeeName  ...         Agency Status\n",
              "0   1     NATHANIEL FORD  ...  San Francisco    NaN\n",
              "1   2       GARY JIMENEZ  ...  San Francisco    NaN\n",
              "2   3     ALBERT PARDINI  ...  San Francisco    NaN\n",
              "3   4  CHRISTOPHER CHONG  ...  San Francisco    NaN\n",
              "4   5    PATRICK GARDNER  ...  San Francisco    NaN\n",
              "\n",
              "[5 rows x 13 columns]"
            ]
          },
          "metadata": {},
          "execution_count": 3
        }
      ]
    },
    {
      "cell_type": "markdown",
      "metadata": {
        "id": "bhKGpGlm-2mp"
      },
      "source": [
        "# **Find Numbers of Rows and Coloumns**"
      ]
    },
    {
      "cell_type": "code",
      "metadata": {
        "colab": {
          "base_uri": "https://localhost:8080/"
        },
        "id": "igoxek6e-06m",
        "outputId": "e4815cb6-c975-4adb-e664-a56f80409d6f"
      },
      "source": [
        "print(\"number of Rows :\",df.shape[0])\n",
        "print(\"number of Coloumns :\",df.shape[1])"
      ],
      "execution_count": 4,
      "outputs": [
        {
          "output_type": "stream",
          "name": "stdout",
          "text": [
            "number of Rows : 148654\n",
            "number of Coloumns : 13\n"
          ]
        }
      ]
    },
    {
      "cell_type": "markdown",
      "metadata": {
        "id": "LJRPpPcg_fjv"
      },
      "source": [
        "# **Get information about Dataset**"
      ]
    },
    {
      "cell_type": "code",
      "metadata": {
        "colab": {
          "base_uri": "https://localhost:8080/"
        },
        "id": "h3sKe_eC_fGi",
        "outputId": "73885cb0-d5d0-4f6d-b8a3-887c8783ff7f"
      },
      "source": [
        "df.info()"
      ],
      "execution_count": 38,
      "outputs": [
        {
          "output_type": "stream",
          "name": "stdout",
          "text": [
            "<class 'pandas.core.frame.DataFrame'>\n",
            "RangeIndex: 148654 entries, 0 to 148653\n",
            "Data columns (total 10 columns):\n",
            " #   Column            Non-Null Count   Dtype  \n",
            "---  ------            --------------   -----  \n",
            " 0   EmployeeName      148652 non-null  object \n",
            " 1   JobTitle          148654 non-null  object \n",
            " 2   BasePay           148045 non-null  float64\n",
            " 3   OvertimePay       148654 non-null  object \n",
            " 4   OtherPay          148654 non-null  object \n",
            " 5   Benefits          112495 non-null  object \n",
            " 6   TotalPay          148654 non-null  float64\n",
            " 7   TotalPayBenefits  148654 non-null  float64\n",
            " 8   Year              148654 non-null  int64  \n",
            " 9   Status            38119 non-null   object \n",
            "dtypes: float64(3), int64(1), object(6)\n",
            "memory usage: 11.3+ MB\n"
          ]
        }
      ]
    },
    {
      "cell_type": "markdown",
      "metadata": {
        "id": "6mbxg6vVB2R8"
      },
      "source": [
        "# **Remove Notes , Agency Coloumns**"
      ]
    },
    {
      "cell_type": "code",
      "metadata": {
        "id": "TdbF05B1B95F"
      },
      "source": [
        "df = df.drop([\"Notes\",\"Agency\",\"Id\"],axis=1)"
      ],
      "execution_count": 6,
      "outputs": []
    },
    {
      "cell_type": "markdown",
      "metadata": {
        "id": "Rn8Ab73JDUXD"
      },
      "source": [
        "# **Find Occurances of Employees(Top 5)**"
      ]
    },
    {
      "cell_type": "code",
      "metadata": {
        "colab": {
          "base_uri": "https://localhost:8080/"
        },
        "id": "Lz2WSkPkDZst",
        "outputId": "ded34b6b-34e9-4483-87da-7ab58e2a34da"
      },
      "source": [
        "df[\"EmployeeName\"].value_counts()[:5]"
      ],
      "execution_count": 7,
      "outputs": [
        {
          "output_type": "execute_result",
          "data": {
            "text/plain": [
              "Kevin Lee       13\n",
              "Steven Lee      11\n",
              "William Wong    11\n",
              "Richard Lee     11\n",
              "Stanley Lee      9\n",
              "Name: EmployeeName, dtype: int64"
            ]
          },
          "metadata": {},
          "execution_count": 7
        }
      ]
    },
    {
      "cell_type": "code",
      "metadata": {
        "colab": {
          "base_uri": "https://localhost:8080/"
        },
        "id": "qeUYCtf7ExPW",
        "outputId": "2849bb18-4a0a-4b8a-b7d9-59cc476f095e"
      },
      "source": [
        "df['Benefits'].value_counts()"
      ],
      "execution_count": 8,
      "outputs": [
        {
          "output_type": "execute_result",
          "data": {
            "text/plain": [
              "0.0         1053\n",
              "0.00         681\n",
              "7959.18      348\n",
              "4659.36      107\n",
              "25699.2       83\n",
              "            ... \n",
              "39352.99       1\n",
              "112.72         1\n",
              "34164.52       1\n",
              "8729.29        1\n",
              "56744.62       1\n",
              "Name: Benefits, Length: 99635, dtype: int64"
            ]
          },
          "metadata": {},
          "execution_count": 8
        }
      ]
    },
    {
      "cell_type": "markdown",
      "metadata": {
        "id": "gyqd9b9-Gx-Q"
      },
      "source": [
        "# **Total jobs Contain Captain**"
      ]
    },
    {
      "cell_type": "code",
      "metadata": {
        "colab": {
          "base_uri": "https://localhost:8080/"
        },
        "id": "loTbGt_LGxnz",
        "outputId": "78323bb8-d7d8-417b-86c1-e91cd8209b6c"
      },
      "source": [
        "len(df[df['JobTitle'].str.contains(\"Captain\",case=False)])"
      ],
      "execution_count": 9,
      "outputs": [
        {
          "output_type": "execute_result",
          "data": {
            "text/plain": [
              "552"
            ]
          },
          "metadata": {},
          "execution_count": 9
        }
      ]
    },
    {
      "cell_type": "markdown",
      "metadata": {
        "id": "K9XVLhyaHwMa"
      },
      "source": [
        "# **Average of Totalbay and Totalbay+benefits**"
      ]
    },
    {
      "cell_type": "code",
      "metadata": {
        "colab": {
          "base_uri": "https://localhost:8080/"
        },
        "id": "HYa8U2aHIMAC",
        "outputId": "e4f9b09e-9676-49af-a627-d82a3ab5931c"
      },
      "source": [
        "df.columns"
      ],
      "execution_count": 10,
      "outputs": [
        {
          "output_type": "execute_result",
          "data": {
            "text/plain": [
              "Index(['EmployeeName', 'JobTitle', 'BasePay', 'OvertimePay', 'OtherPay',\n",
              "       'Benefits', 'TotalPay', 'TotalPayBenefits', 'Year', 'Status'],\n",
              "      dtype='object')"
            ]
          },
          "metadata": {},
          "execution_count": 10
        }
      ]
    },
    {
      "cell_type": "code",
      "metadata": {
        "colab": {
          "base_uri": "https://localhost:8080/"
        },
        "id": "ls2BxTd8F8Pr",
        "outputId": "08897ad1-3da8-42dc-a276-e88cf5b8f561"
      },
      "source": [
        "df[\"TotalPay\"].mean()\n",
        "df[\"TotalPayBenefits\"].mean()\n"
      ],
      "execution_count": 11,
      "outputs": [
        {
          "output_type": "execute_result",
          "data": {
            "text/plain": [
              "93692.55481056834"
            ]
          },
          "metadata": {},
          "execution_count": 11
        }
      ]
    },
    {
      "cell_type": "markdown",
      "metadata": {
        "id": "Pka0nk2uJCJt"
      },
      "source": [
        "# **Replace not provided in EmployeeName with nan**"
      ]
    },
    {
      "cell_type": "code",
      "metadata": {
        "id": "P2I1nzDTJQk8"
      },
      "source": [
        "df[\"EmployeeName\"]=df[\"EmployeeName\"].replace(\"Not Provided\",np.nan)"
      ],
      "execution_count": 12,
      "outputs": []
    },
    {
      "cell_type": "markdown",
      "metadata": {
        "id": "Io77XKWmkU9O"
      },
      "source": [
        "# **Display name of employee with highest basebay**"
      ]
    },
    {
      "cell_type": "code",
      "metadata": {
        "id": "Il6pGfafkcJg"
      },
      "source": [
        "df[\"BasePay\"]=df[\"BasePay\"].replace(\"Not Provided\",np.nan)\n",
        "df[\"BasePay\"]=df[\"BasePay\"].apply(pd.to_numeric)"
      ],
      "execution_count": 27,
      "outputs": []
    },
    {
      "cell_type": "code",
      "metadata": {
        "colab": {
          "base_uri": "https://localhost:8080/"
        },
        "id": "FFnU3q_1nqbU",
        "outputId": "b2fd1439-dbe8-426a-ace3-85c4c87cc26f"
      },
      "source": [
        "df[df[\"BasePay\"]==df[\"BasePay\"].max()][\"EmployeeName\"]"
      ],
      "execution_count": 31,
      "outputs": [
        {
          "output_type": "execute_result",
          "data": {
            "text/plain": [
              "72925    Gregory P Suhr\n",
              "Name: EmployeeName, dtype: object"
            ]
          },
          "metadata": {},
          "execution_count": 31
        }
      ]
    },
    {
      "cell_type": "markdown",
      "metadata": {
        "id": "cEJ3QXrjosCt"
      },
      "source": [
        "# **Find average base pay , TotalPay per job title**\n",
        "\n"
      ]
    },
    {
      "cell_type": "code",
      "metadata": {
        "colab": {
          "base_uri": "https://localhost:8080/",
          "height": 455
        },
        "id": "zXny2Cmso0Xg",
        "outputId": "3fcf3a03-409e-4409-b15b-b0d438c72c49"
      },
      "source": [
        "df.groupby(\"JobTitle\").mean()[[\"BasePay\",\"TotalPay\"]].sort_values(by=\"BasePay\",ascending=False)"
      ],
      "execution_count": 50,
      "outputs": [
        {
          "output_type": "execute_result",
          "data": {
            "text/html": [
              "<div>\n",
              "<style scoped>\n",
              "    .dataframe tbody tr th:only-of-type {\n",
              "        vertical-align: middle;\n",
              "    }\n",
              "\n",
              "    .dataframe tbody tr th {\n",
              "        vertical-align: top;\n",
              "    }\n",
              "\n",
              "    .dataframe thead th {\n",
              "        text-align: right;\n",
              "    }\n",
              "</style>\n",
              "<table border=\"1\" class=\"dataframe\">\n",
              "  <thead>\n",
              "    <tr style=\"text-align: right;\">\n",
              "      <th></th>\n",
              "      <th>BasePay</th>\n",
              "      <th>TotalPay</th>\n",
              "    </tr>\n",
              "    <tr>\n",
              "      <th>JobTitle</th>\n",
              "      <th></th>\n",
              "      <th></th>\n",
              "    </tr>\n",
              "  </thead>\n",
              "  <tbody>\n",
              "    <tr>\n",
              "      <th>Chief of Police</th>\n",
              "      <td>309767.683333</td>\n",
              "      <td>329183.646667</td>\n",
              "    </tr>\n",
              "    <tr>\n",
              "      <th>Chief, Fire Department</th>\n",
              "      <td>304232.340000</td>\n",
              "      <td>325971.683333</td>\n",
              "    </tr>\n",
              "    <tr>\n",
              "      <th>Gen Mgr, Public Trnsp Dept</th>\n",
              "      <td>297769.413333</td>\n",
              "      <td>297769.413333</td>\n",
              "    </tr>\n",
              "    <tr>\n",
              "      <th>CHIEF OF DEPARTMENT, (FIRE DEPARTMENT)</th>\n",
              "      <td>285262.000000</td>\n",
              "      <td>302377.730000</td>\n",
              "    </tr>\n",
              "    <tr>\n",
              "      <th>Dep Dir for Investments, Ret</th>\n",
              "      <td>276153.765000</td>\n",
              "      <td>278592.545000</td>\n",
              "    </tr>\n",
              "    <tr>\n",
              "      <th>...</th>\n",
              "      <td>...</td>\n",
              "      <td>...</td>\n",
              "    </tr>\n",
              "    <tr>\n",
              "      <th>Captain, (Fire Department)</th>\n",
              "      <td>NaN</td>\n",
              "      <td>35332.780000</td>\n",
              "    </tr>\n",
              "    <tr>\n",
              "      <th>Drug Court Coordinator</th>\n",
              "      <td>NaN</td>\n",
              "      <td>0.000000</td>\n",
              "    </tr>\n",
              "    <tr>\n",
              "      <th>IS Technician Assistant</th>\n",
              "      <td>NaN</td>\n",
              "      <td>0.000000</td>\n",
              "    </tr>\n",
              "    <tr>\n",
              "      <th>Not provided</th>\n",
              "      <td>NaN</td>\n",
              "      <td>0.000000</td>\n",
              "    </tr>\n",
              "    <tr>\n",
              "      <th>Public Safety Comm Tech</th>\n",
              "      <td>NaN</td>\n",
              "      <td>0.000000</td>\n",
              "    </tr>\n",
              "  </tbody>\n",
              "</table>\n",
              "<p>2159 rows × 2 columns</p>\n",
              "</div>"
            ],
            "text/plain": [
              "                                              BasePay       TotalPay\n",
              "JobTitle                                                            \n",
              "Chief of Police                         309767.683333  329183.646667\n",
              "Chief, Fire Department                  304232.340000  325971.683333\n",
              "Gen Mgr, Public Trnsp Dept              297769.413333  297769.413333\n",
              "CHIEF OF DEPARTMENT, (FIRE DEPARTMENT)  285262.000000  302377.730000\n",
              "Dep Dir for Investments, Ret            276153.765000  278592.545000\n",
              "...                                               ...            ...\n",
              "Captain, (Fire Department)                        NaN   35332.780000\n",
              "Drug Court Coordinator                            NaN       0.000000\n",
              "IS Technician Assistant                           NaN       0.000000\n",
              "Not provided                                      NaN       0.000000\n",
              "Public Safety Comm Tech                           NaN       0.000000\n",
              "\n",
              "[2159 rows x 2 columns]"
            ]
          },
          "metadata": {},
          "execution_count": 50
        }
      ]
    }
  ]
}